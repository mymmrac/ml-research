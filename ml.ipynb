{
 "cells": [
  {
   "cell_type": "code",
   "execution_count": 1,
   "metadata": {},
   "outputs": [
    {
     "name": "stderr",
     "output_type": "stream",
     "text": [
      "2022-11-04 19:45:31.126241: I tensorflow/core/platform/cpu_feature_guard.cc:193] This TensorFlow binary is optimized with oneAPI Deep Neural Network Library (oneDNN) to use the following CPU instructions in performance-critical operations:  AVX2 AVX_VNNI FMA\n",
      "To enable them in other operations, rebuild TensorFlow with the appropriate compiler flags.\n",
      "2022-11-04 19:45:31.314597: I tensorflow/core/util/util.cc:169] oneDNN custom operations are on. You may see slightly different numerical results due to floating-point round-off errors from different computation orders. To turn them off, set the environment variable `TF_ENABLE_ONEDNN_OPTS=0`.\n",
      "2022-11-04 19:45:31.377061: E tensorflow/stream_executor/cuda/cuda_blas.cc:2981] Unable to register cuBLAS factory: Attempting to register factory for plugin cuBLAS when one has already been registered\n",
      "2022-11-04 19:45:32.080759: W tensorflow/stream_executor/platform/default/dso_loader.cc:64] Could not load dynamic library 'libnvinfer.so.7'; dlerror: libnvinfer.so.7: cannot open shared object file: No such file or directory; LD_LIBRARY_PATH: /lib/cuda-11.2/include:/lib/cuda-11.2/lib64:\n",
      "2022-11-04 19:45:32.080820: W tensorflow/stream_executor/platform/default/dso_loader.cc:64] Could not load dynamic library 'libnvinfer_plugin.so.7'; dlerror: libnvinfer_plugin.so.7: cannot open shared object file: No such file or directory; LD_LIBRARY_PATH: /lib/cuda-11.2/include:/lib/cuda-11.2/lib64:\n",
      "2022-11-04 19:45:32.080823: W tensorflow/compiler/tf2tensorrt/utils/py_utils.cc:38] TF-TRT Warning: Cannot dlopen some TensorRT libraries. If you would like to use Nvidia GPU with TensorRT, please make sure the missing libraries mentioned above are installed properly.\n"
     ]
    }
   ],
   "source": [
    "import tensorflow_datasets as tfds\n",
    "import tensorflow as tf\n",
    "\n",
    "# Disable logs\n",
    "tf.get_logger().setLevel('ERROR')"
   ]
  },
  {
   "cell_type": "code",
   "execution_count": 2,
   "metadata": {},
   "outputs": [
    {
     "name": "stderr",
     "output_type": "stream",
     "text": [
      "2022-11-04 19:45:33.556115: I tensorflow/stream_executor/cuda/cuda_gpu_executor.cc:980] successful NUMA node read from SysFS had negative value (-1), but there must be at least one NUMA node, so returning NUMA node zero\n",
      "2022-11-04 19:45:33.578103: I tensorflow/stream_executor/cuda/cuda_gpu_executor.cc:980] successful NUMA node read from SysFS had negative value (-1), but there must be at least one NUMA node, so returning NUMA node zero\n",
      "2022-11-04 19:45:33.578247: I tensorflow/stream_executor/cuda/cuda_gpu_executor.cc:980] successful NUMA node read from SysFS had negative value (-1), but there must be at least one NUMA node, so returning NUMA node zero\n",
      "2022-11-04 19:45:33.579092: I tensorflow/core/platform/cpu_feature_guard.cc:193] This TensorFlow binary is optimized with oneAPI Deep Neural Network Library (oneDNN) to use the following CPU instructions in performance-critical operations:  AVX2 AVX_VNNI FMA\n",
      "To enable them in other operations, rebuild TensorFlow with the appropriate compiler flags.\n",
      "2022-11-04 19:45:33.580232: I tensorflow/stream_executor/cuda/cuda_gpu_executor.cc:980] successful NUMA node read from SysFS had negative value (-1), but there must be at least one NUMA node, so returning NUMA node zero\n",
      "2022-11-04 19:45:33.580343: I tensorflow/stream_executor/cuda/cuda_gpu_executor.cc:980] successful NUMA node read from SysFS had negative value (-1), but there must be at least one NUMA node, so returning NUMA node zero\n",
      "2022-11-04 19:45:33.580408: I tensorflow/stream_executor/cuda/cuda_gpu_executor.cc:980] successful NUMA node read from SysFS had negative value (-1), but there must be at least one NUMA node, so returning NUMA node zero\n",
      "2022-11-04 19:45:34.204440: I tensorflow/stream_executor/cuda/cuda_gpu_executor.cc:980] successful NUMA node read from SysFS had negative value (-1), but there must be at least one NUMA node, so returning NUMA node zero\n",
      "2022-11-04 19:45:34.204575: I tensorflow/stream_executor/cuda/cuda_gpu_executor.cc:980] successful NUMA node read from SysFS had negative value (-1), but there must be at least one NUMA node, so returning NUMA node zero\n",
      "2022-11-04 19:45:34.204650: I tensorflow/stream_executor/cuda/cuda_gpu_executor.cc:980] successful NUMA node read from SysFS had negative value (-1), but there must be at least one NUMA node, so returning NUMA node zero\n",
      "2022-11-04 19:45:34.204768: I tensorflow/core/common_runtime/gpu/gpu_device.cc:1616] Created device /job:localhost/replica:0/task:0/device:GPU:0 with 6108 MB memory:  -> device: 0, name: NVIDIA GeForce RTX 3070 Ti Laptop GPU, pci bus id: 0000:01:00.0, compute capability: 8.6\n"
     ]
    },
    {
     "name": "stdout",
     "output_type": "stream",
     "text": [
      "Train: 188, test: 182\n",
      "Number of classes: 200\n"
     ]
    }
   ],
   "source": [
    "# Settings\n",
    "batch_size = 32\n",
    "img_width = 320\n",
    "img_height = 320\n",
    "\n",
    "# Fetch dataset\n",
    "train_ds: tf.data.Dataset\n",
    "test_ds: tf.data.Dataset\n",
    "\n",
    "(train_ds, test_ds), info = tfds.load('caltech_birds2011', split=['train', 'test'], \n",
    "                                      batch_size=batch_size, as_supervised=True, shuffle_files=True, with_info=True)\n",
    "\n",
    "# Prepear dataset\n",
    "def modify_images(image, label):\n",
    "    image = tf.image.convert_image_dtype(image, dtype=tf.float32)\n",
    "    \n",
    "    image = tf.image.resize_with_pad(\n",
    "        image,\n",
    "        img_height, img_width,\n",
    "        method='bilinear',\n",
    "        antialias=False,\n",
    "    )\n",
    "    \n",
    "    return image, label\n",
    "\n",
    "train_ds = (\n",
    "    train_ds\n",
    "    .map(modify_images, num_parallel_calls=tf.data.AUTOTUNE)\n",
    "    .cache()\n",
    "    .prefetch(buffer_size=tf.data.AUTOTUNE)\n",
    ")\n",
    "\n",
    "test_ds = (\n",
    "    test_ds\n",
    "    .map(modify_images, num_parallel_calls=tf.data.AUTOTUNE)\n",
    "    .cache()\n",
    "    .prefetch(buffer_size=tf.data.AUTOTUNE)\n",
    ")\n",
    "\n",
    "num_classes = info.features['label'].num_classes\n",
    "\n",
    "# Display dataset info\n",
    "print(\"Train: {}, test: {}\".format(len(train_ds), len(test_ds)))\n",
    "print(\"Number of classes: {}\".format(num_classes))"
   ]
  },
  {
   "cell_type": "code",
   "execution_count": 3,
   "metadata": {},
   "outputs": [
    {
     "name": "stdout",
     "output_type": "stream",
     "text": [
      "Model: \"sequential\"\n",
      "_________________________________________________________________\n",
      " Layer (type)                Output Shape              Param #   \n",
      "=================================================================\n",
      " random_contrast (RandomCont  (None, 320, 320, 3)      0         \n",
      " rast)                                                           \n",
      "                                                                 \n",
      " random_flip (RandomFlip)    (None, 320, 320, 3)       0         \n",
      "                                                                 \n",
      " random_rotation (RandomRota  (None, 320, 320, 3)      0         \n",
      " tion)                                                           \n",
      "                                                                 \n",
      " random_zoom (RandomZoom)    (None, 320, 320, 3)       0         \n",
      "                                                                 \n",
      " rescaling (Rescaling)       (None, 320, 320, 3)       0         \n",
      "                                                                 \n",
      " batch_normalization (BatchN  (None, 320, 320, 3)      12        \n",
      " ormalization)                                                   \n",
      "                                                                 \n",
      " conv2d (Conv2D)             (None, 320, 320, 64)      1792      \n",
      "                                                                 \n",
      " max_pooling2d (MaxPooling2D  (None, 160, 160, 64)     0         \n",
      " )                                                               \n",
      "                                                                 \n",
      " batch_normalization_1 (Batc  (None, 160, 160, 64)     256       \n",
      " hNormalization)                                                 \n",
      "                                                                 \n",
      " conv2d_1 (Conv2D)           (None, 160, 160, 128)     73856     \n",
      "                                                                 \n",
      " max_pooling2d_1 (MaxPooling  (None, 80, 80, 128)      0         \n",
      " 2D)                                                             \n",
      "                                                                 \n",
      " batch_normalization_2 (Batc  (None, 80, 80, 128)      896       \n",
      " hNormalization)                                                 \n",
      "                                                                 \n",
      " conv2d_2 (Conv2D)           (None, 80, 80, 256)       295168    \n",
      "                                                                 \n",
      " max_pooling2d_2 (MaxPooling  (None, 40, 40, 256)      0         \n",
      " 2D)                                                             \n",
      "                                                                 \n",
      " dropout (Dropout)           (None, 40, 40, 256)       0         \n",
      "                                                                 \n",
      " batch_normalization_3 (Batc  (None, 40, 40, 256)      1792      \n",
      " hNormalization)                                                 \n",
      "                                                                 \n",
      " flatten (Flatten)           (None, 409600)            0         \n",
      "                                                                 \n",
      " dense (Dense)               (None, 128)               52428928  \n",
      "                                                                 \n",
      " dense_1 (Dense)             (None, 200)               25800     \n",
      "                                                                 \n",
      "=================================================================\n",
      "Total params: 52,828,500\n",
      "Trainable params: 52,826,446\n",
      "Non-trainable params: 2,054\n",
      "_________________________________________________________________\n"
     ]
    }
   ],
   "source": [
    "from tensorflow import keras\n",
    "from keras import layers\n",
    "\n",
    "# Setup model\n",
    "model = keras.Sequential([\n",
    "    # Input\n",
    "    layers.InputLayer(input_shape=(img_height, img_width, 3)),\n",
    "\n",
    "    # Data augmentation\n",
    "    layers.RandomContrast(factor=0.1),\n",
    "    layers.RandomFlip(mode='horizontal'),\n",
    "    layers.RandomRotation(factor=0.1),\n",
    "    layers.RandomZoom(height_factor=0.1, width_factor=0.1),\n",
    "    \n",
    "    # Normalazation\n",
    "    layers.Rescaling(scale=1./255),\n",
    "\n",
    "    # Block 1\n",
    "    layers.BatchNormalization(),\n",
    "    layers.Conv2D(filters=64, kernel_size=3, activation='relu', padding='same'),\n",
    "    layers.MaxPool2D(),\n",
    "\n",
    "    # Block 2\n",
    "    layers.BatchNormalization(),\n",
    "    layers.Conv2D(filters=128, kernel_size=3, activation='relu', padding='same'),\n",
    "    layers.MaxPool2D(),\n",
    "\n",
    "    # Block 3\n",
    "    layers.BatchNormalization(renorm=True),\n",
    "    layers.Conv2D(filters=256, kernel_size=3, activation='relu', padding='same'),\n",
    "    layers.MaxPool2D(),\n",
    "    layers.Dropout(0.2),\n",
    "\n",
    "    # Head\n",
    "    layers.BatchNormalization(renorm=True),\n",
    "    layers.Flatten(),\n",
    "    layers.Dense(128, activation='relu'),\n",
    "    layers.Dense(num_classes),\n",
    "])\n",
    "\n",
    "# Summarize model\n",
    "model.summary()"
   ]
  },
  {
   "cell_type": "code",
   "execution_count": null,
   "metadata": {},
   "outputs": [
    {
     "name": "stdout",
     "output_type": "stream",
     "text": [
      "Epoch 1/64\n"
     ]
    },
    {
     "name": "stderr",
     "output_type": "stream",
     "text": [
      "2022-11-04 19:45:39.314021: I tensorflow/stream_executor/cuda/cuda_dnn.cc:384] Loaded cuDNN version 8101\n",
      "2022-11-04 19:45:42.362657: I tensorflow/stream_executor/cuda/cuda_blas.cc:1614] TensorFloat-32 will be used for the matrix multiplication. This will only be logged once.\n"
     ]
    },
    {
     "name": "stdout",
     "output_type": "stream",
     "text": [
      "188/188 [==============================] - 90s 406ms/step - loss: 11.8475 - accuracy: 0.0028 - val_loss: 10342.4248 - val_accuracy: 0.0052\n",
      "Epoch 2/64\n",
      "188/188 [==============================] - 76s 403ms/step - loss: 34.6111 - accuracy: 0.0032 - val_loss: 543.7142 - val_accuracy: 0.0052\n",
      "Epoch 3/64\n",
      "188/188 [==============================] - 76s 402ms/step - loss: 7.2979 - accuracy: 0.0032 - val_loss: 6.0929 - val_accuracy: 0.0047\n",
      "Epoch 4/64\n",
      "188/188 [==============================] - 75s 400ms/step - loss: 5.6648 - accuracy: 0.0045 - val_loss: 5.3839 - val_accuracy: 0.0052\n",
      "Epoch 5/64\n",
      "188/188 [==============================] - 75s 399ms/step - loss: 5.5833 - accuracy: 0.0042 - val_loss: 5.3068 - val_accuracy: 0.0050\n",
      "Epoch 6/64\n",
      "188/188 [==============================] - 75s 400ms/step - loss: 6.2230 - accuracy: 0.0045 - val_loss: 5.3015 - val_accuracy: 0.0052\n",
      "Epoch 7/64\n",
      "188/188 [==============================] - 75s 399ms/step - loss: 5.3436 - accuracy: 0.0047 - val_loss: 5.3433 - val_accuracy: 0.0050\n",
      "Epoch 8/64\n",
      "188/188 [==============================] - 75s 398ms/step - loss: 5.3025 - accuracy: 0.0043 - val_loss: 5.3065 - val_accuracy: 0.0050\n",
      "Epoch 9/64\n",
      "188/188 [==============================] - 75s 398ms/step - loss: 5.2995 - accuracy: 0.0043 - val_loss: 5.3066 - val_accuracy: 0.0050\n",
      "Epoch 10/64\n",
      "188/188 [==============================] - 75s 398ms/step - loss: 5.2996 - accuracy: 0.0043 - val_loss: 5.3049 - val_accuracy: 0.0050\n",
      "Epoch 11/64\n",
      "188/188 [==============================] - 75s 399ms/step - loss: 5.2993 - accuracy: 0.0042 - val_loss: 5.3056 - val_accuracy: 0.0050\n",
      "Epoch 12/64\n",
      "188/188 [==============================] - 75s 399ms/step - loss: 5.3136 - accuracy: 0.0042 - val_loss: 5.3262 - val_accuracy: 0.0050\n",
      "Epoch 13/64\n",
      "188/188 [==============================] - 75s 399ms/step - loss: 5.2988 - accuracy: 0.0042 - val_loss: 5.3151 - val_accuracy: 0.0050\n",
      "Epoch 14/64\n",
      "188/188 [==============================] - 75s 399ms/step - loss: 5.3050 - accuracy: 0.0040 - val_loss: 5.3112 - val_accuracy: 0.0050\n",
      "Epoch 15/64\n",
      "188/188 [==============================] - 75s 399ms/step - loss: 5.2992 - accuracy: 0.0040 - val_loss: 5.3082 - val_accuracy: 0.0050\n",
      "Epoch 16/64\n",
      "188/188 [==============================] - 75s 399ms/step - loss: 5.2999 - accuracy: 0.0040 - val_loss: 5.3094 - val_accuracy: 0.0050\n",
      "Epoch 17/64\n",
      "188/188 [==============================] - 75s 399ms/step - loss: 5.2995 - accuracy: 0.0038 - val_loss: 5.3089 - val_accuracy: 0.0050\n",
      "Epoch 18/64\n",
      "188/188 [==============================] - 75s 398ms/step - loss: 5.2986 - accuracy: 0.0040 - val_loss: 5.3090 - val_accuracy: 0.0050\n",
      "Epoch 19/64\n",
      "188/188 [==============================] - 75s 398ms/step - loss: 5.2995 - accuracy: 0.0035 - val_loss: 5.3091 - val_accuracy: 0.0050\n",
      "Epoch 20/64\n",
      "188/188 [==============================] - 75s 399ms/step - loss: 5.2995 - accuracy: 0.0027 - val_loss: 5.3094 - val_accuracy: 0.0052\n",
      "Epoch 21/64\n",
      "  8/188 [>.............................] - ETA: 1:02 - loss: 5.2992 - accuracy: 0.0039    "
     ]
    }
   ],
   "source": [
    "# Prepear model\n",
    "model.compile(\n",
    "    optimizer=tf.keras.optimizers.Adam(),\n",
    "    loss=tf.keras.losses.SparseCategoricalCrossentropy(from_logits=True),\n",
    "    metrics=['accuracy'],\n",
    ")\n",
    "\n",
    "# Train model\n",
    "history = model.fit(\n",
    "    train_ds,\n",
    "    validation_data=test_ds,\n",
    "    epochs=64,\n",
    ")\n",
    "\n",
    "# Save model\n",
    "model.save(\"output/m2\")"
   ]
  },
  {
   "cell_type": "code",
   "execution_count": null,
   "metadata": {},
   "outputs": [],
   "source": [
    "# Plot learning curves\n",
    "import pandas as pd\n",
    "\n",
    "history_frame = pd.DataFrame(history.history)\n",
    "history_frame.loc[:, ['loss', 'val_loss']].plot()\n",
    "history_frame.loc[:, ['accuracy', 'val_accuracy']].plot()"
   ]
  },
  {
   "cell_type": "code",
   "execution_count": null,
   "metadata": {},
   "outputs": [],
   "source": []
  }
 ],
 "metadata": {
  "kernelspec": {
   "display_name": "Python 3 (ipykernel)",
   "language": "python",
   "name": "python3"
  },
  "language_info": {
   "codemirror_mode": {
    "name": "ipython",
    "version": 3
   },
   "file_extension": ".py",
   "mimetype": "text/x-python",
   "name": "python",
   "nbconvert_exporter": "python",
   "pygments_lexer": "ipython3",
   "version": "3.10.6"
  }
 },
 "nbformat": 4,
 "nbformat_minor": 1
}
